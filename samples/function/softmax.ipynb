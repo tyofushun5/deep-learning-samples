{
 "cells": [
  {
   "metadata": {},
   "cell_type": "code",
   "outputs": [],
   "execution_count": null,
   "source": "import numpy as np",
   "id": "f1d86f47f8b3c325"
  },
  {
   "metadata": {},
   "cell_type": "markdown",
   "source": [
    "$$\n",
    "\\mathrm{softmax}({\\bf x})_k\n",
    "= \\frac{\\exp({\\bf x}_k)}{\\sum^K_{k'=1} \\exp({\\bf x}_{k'})}\n",
    "= \\frac{\\exp({\\bf x}_k - m)}{\\sum^K_{k'=1} \\exp({\\bf x}_{k'} - m)} \\hspace{10mm} \\text{for} \\, k=1,\\ldots, K\n",
    "$$"
   ],
   "id": "8e71dc805d39d06d"
  },
  {
   "metadata": {
    "ExecuteTime": {
     "end_time": "2025-10-22T16:35:47.591466Z",
     "start_time": "2025-10-22T16:35:47.574449Z"
    }
   },
   "cell_type": "code",
   "source": [
    "def softmax(x, axis=1):\n",
    "    x -= x.max(axis, keepdims=True)\n",
    "    x_exp = np.exp(x)\n",
    "    return x_exp / x_exp.sum(axis, keepdims=True)"
   ],
   "id": "5280dc5878035ee6",
   "outputs": [],
   "execution_count": 2
  }
 ],
 "metadata": {
  "kernelspec": {
   "display_name": "Python 3",
   "language": "python",
   "name": "python3"
  },
  "language_info": {
   "codemirror_mode": {
    "name": "ipython",
    "version": 2
   },
   "file_extension": ".py",
   "mimetype": "text/x-python",
   "name": "python",
   "nbconvert_exporter": "python",
   "pygments_lexer": "ipython2",
   "version": "2.7.6"
  }
 },
 "nbformat": 4,
 "nbformat_minor": 5
}
