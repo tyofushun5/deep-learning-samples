{
 "cells": [
  {
   "cell_type": "code",
   "id": "initial_id",
   "metadata": {
    "collapsed": true,
    "ExecuteTime": {
     "end_time": "2025-09-30T16:16:48.794041Z",
     "start_time": "2025-09-30T16:16:46.192505Z"
    }
   },
   "source": [
    "import torch\n",
    "import numpy as np\n",
    "import matplotlib.pyplot as plt"
   ],
   "outputs": [],
   "execution_count": 1
  },
  {
   "metadata": {
    "ExecuteTime": {
     "end_time": "2025-09-30T16:16:48.873267Z",
     "start_time": "2025-09-30T16:16:48.854116Z"
    }
   },
   "cell_type": "code",
   "source": "array_tensor = torch.tensor([1, 2, 3])",
   "id": "6cb8ec5412fd3257",
   "outputs": [],
   "execution_count": 2
  },
  {
   "metadata": {
    "ExecuteTime": {
     "end_time": "2025-09-30T16:16:48.920226Z",
     "start_time": "2025-09-30T16:16:48.906864Z"
    }
   },
   "cell_type": "code",
   "source": "array_tensor.dtype",
   "id": "4a0564e0a650ebf6",
   "outputs": [
    {
     "data": {
      "text/plain": [
       "torch.int64"
      ]
     },
     "execution_count": 3,
     "metadata": {},
     "output_type": "execute_result"
    }
   ],
   "execution_count": 3
  },
  {
   "metadata": {
    "ExecuteTime": {
     "end_time": "2025-09-30T16:17:33.077752Z",
     "start_time": "2025-09-30T16:17:33.072486Z"
    }
   },
   "cell_type": "code",
   "source": "array_tensor = torch.tensor([1, 2, 3], dtype=torch.float32)",
   "id": "6824b8d7a97205b6",
   "outputs": [],
   "execution_count": 6
  },
  {
   "metadata": {
    "ExecuteTime": {
     "end_time": "2025-09-30T16:27:49.948981Z",
     "start_time": "2025-09-30T16:27:49.937738Z"
    }
   },
   "cell_type": "code",
   "source": "array_tensor.dtype",
   "id": "b0ab2de06fcbd330",
   "outputs": [
    {
     "data": {
      "text/plain": [
       "torch.float32"
      ]
     },
     "execution_count": 9,
     "metadata": {},
     "output_type": "execute_result"
    }
   ],
   "execution_count": 9
  },
  {
   "metadata": {
    "ExecuteTime": {
     "end_time": "2025-09-30T16:28:42.059447Z",
     "start_time": "2025-09-30T16:28:42.049191Z"
    }
   },
   "cell_type": "code",
   "source": "array_numpy = np.array([1, 2, 3])",
   "id": "b990a019d5329878",
   "outputs": [],
   "execution_count": 10
  },
  {
   "metadata": {
    "ExecuteTime": {
     "end_time": "2025-09-30T16:29:42.611676Z",
     "start_time": "2025-09-30T16:29:42.594319Z"
    }
   },
   "cell_type": "code",
   "source": "array_tensor_from_numpy = torch.from_numpy(array_numpy)",
   "id": "2371d778b568c9db",
   "outputs": [],
   "execution_count": 11
  },
  {
   "metadata": {
    "ExecuteTime": {
     "end_time": "2025-09-30T16:30:09.860389Z",
     "start_time": "2025-09-30T16:30:09.841837Z"
    }
   },
   "cell_type": "code",
   "source": "array_tensor_from_numpy.dtype",
   "id": "63bf566a12d95655",
   "outputs": [
    {
     "data": {
      "text/plain": [
       "torch.int32"
      ]
     },
     "execution_count": 12,
     "metadata": {},
     "output_type": "execute_result"
    }
   ],
   "execution_count": 12
  },
  {
   "metadata": {
    "ExecuteTime": {
     "end_time": "2025-09-30T16:36:26.659665Z",
     "start_time": "2025-09-30T16:36:26.648276Z"
    }
   },
   "cell_type": "code",
   "source": "array_tensor_from_numpy.dtype",
   "id": "318386e822e66dbc",
   "outputs": [
    {
     "data": {
      "text/plain": [
       "torch.int32"
      ]
     },
     "execution_count": 17,
     "metadata": {},
     "output_type": "execute_result"
    }
   ],
   "execution_count": 17
  },
  {
   "metadata": {
    "ExecuteTime": {
     "end_time": "2025-09-30T16:37:25.551942Z",
     "start_time": "2025-09-30T16:37:25.511231Z"
    }
   },
   "cell_type": "code",
   "source": "torch.mean(array_tensor_from_numpy)",
   "id": "d428c8a2595d459e",
   "outputs": [
    {
     "ename": "RuntimeError",
     "evalue": "mean(): could not infer output dtype. Input dtype must be either a floating point or complex dtype. Got: Int",
     "output_type": "error",
     "traceback": [
      "\u001B[1;31m---------------------------------------------------------------------------\u001B[0m",
      "\u001B[1;31mRuntimeError\u001B[0m                              Traceback (most recent call last)",
      "Cell \u001B[1;32mIn[20], line 1\u001B[0m\n\u001B[1;32m----> 1\u001B[0m \u001B[43mtorch\u001B[49m\u001B[38;5;241;43m.\u001B[39;49m\u001B[43mmean\u001B[49m\u001B[43m(\u001B[49m\u001B[43marray_tensor_from_numpy\u001B[49m\u001B[43m)\u001B[49m\n",
      "\u001B[1;31mRuntimeError\u001B[0m: mean(): could not infer output dtype. Input dtype must be either a floating point or complex dtype. Got: Int"
     ]
    }
   ],
   "execution_count": 20
  },
  {
   "metadata": {
    "ExecuteTime": {
     "end_time": "2025-09-30T16:37:42.164235Z",
     "start_time": "2025-09-30T16:37:42.145075Z"
    }
   },
   "cell_type": "code",
   "source": "torch.mean(array_tensor_from_numpy.float())",
   "id": "1359eb12b6106211",
   "outputs": [
    {
     "data": {
      "text/plain": [
       "tensor(2.)"
      ]
     },
     "execution_count": 22,
     "metadata": {},
     "output_type": "execute_result"
    }
   ],
   "execution_count": 22
  },
  {
   "metadata": {
    "ExecuteTime": {
     "end_time": "2025-09-30T16:39:38.234394Z",
     "start_time": "2025-09-30T16:39:38.225360Z"
    }
   },
   "cell_type": "code",
   "source": "array_ones = torch.ones([2, 3], dtype=torch.float32)",
   "id": "a6b7192fbc60783c",
   "outputs": [],
   "execution_count": 26
  },
  {
   "metadata": {
    "ExecuteTime": {
     "end_time": "2025-09-30T16:48:10.151852Z",
     "start_time": "2025-09-30T16:48:10.136691Z"
    }
   },
   "cell_type": "code",
   "source": "array_ones",
   "id": "35395bc54b7d9df9",
   "outputs": [
    {
     "data": {
      "text/plain": [
       "tensor([[1., 1., 1.],\n",
       "        [1., 1., 1.]])"
      ]
     },
     "execution_count": 40,
     "metadata": {},
     "output_type": "execute_result"
    }
   ],
   "execution_count": 40
  },
  {
   "metadata": {
    "ExecuteTime": {
     "end_time": "2025-09-30T16:42:07.558744Z",
     "start_time": "2025-09-30T16:42:07.538882Z"
    }
   },
   "cell_type": "code",
   "source": "array_ones_broadcast = array_ones + 10",
   "id": "d4fe6a72ac82aa59",
   "outputs": [],
   "execution_count": 31
  },
  {
   "metadata": {
    "ExecuteTime": {
     "end_time": "2025-09-30T16:42:18.671731Z",
     "start_time": "2025-09-30T16:42:18.654539Z"
    }
   },
   "cell_type": "code",
   "source": "array_ones_broadcast",
   "id": "17a8750783bf3743",
   "outputs": [
    {
     "data": {
      "text/plain": [
       "tensor([[11., 11., 11.],\n",
       "        [11., 11., 11.]])"
      ]
     },
     "execution_count": 32,
     "metadata": {},
     "output_type": "execute_result"
    }
   ],
   "execution_count": 32
  },
  {
   "metadata": {
    "ExecuteTime": {
     "end_time": "2025-09-30T16:43:18.249950Z",
     "start_time": "2025-09-30T16:43:18.236437Z"
    }
   },
   "cell_type": "code",
   "source": "array_for_numpy = array_ones.numpy()",
   "id": "4b53f4576c9684e6",
   "outputs": [],
   "execution_count": 33
  },
  {
   "metadata": {
    "ExecuteTime": {
     "end_time": "2025-09-30T16:43:58.641296Z",
     "start_time": "2025-09-30T16:43:58.627300Z"
    }
   },
   "cell_type": "code",
   "source": "array_for_numpy.dtype",
   "id": "7459a1713b0c5acb",
   "outputs": [
    {
     "data": {
      "text/plain": [
       "dtype('float32')"
      ]
     },
     "execution_count": 37,
     "metadata": {},
     "output_type": "execute_result"
    }
   ],
   "execution_count": 37
  },
  {
   "metadata": {
    "ExecuteTime": {
     "end_time": "2025-09-30T16:47:31.398727Z",
     "start_time": "2025-09-30T16:47:31.239046Z"
    }
   },
   "cell_type": "code",
   "source": [
    "axis_x = torch.linspace(0, 10, 100)\n",
    "axis_y = axis_x **2\n",
    "plt.plot(axis_x, axis_y)"
   ],
   "id": "dbe37b8316c0c910",
   "outputs": [
    {
     "data": {
      "text/plain": [
       "[<matplotlib.lines.Line2D at 0x14bd8cde9e0>]"
      ]
     },
     "execution_count": 39,
     "metadata": {},
     "output_type": "execute_result"
    },
    {
     "data": {
      "text/plain": [
       "<Figure size 640x480 with 1 Axes>"
      ],
      "image/png": "[encoded data removed]"
     },
     "metadata": {},
     "output_type": "display_data",
     "jetTransient": {
      "display_id": null
     }
    }
   ],
   "execution_count": 39
  },
  {
   "metadata": {
    "ExecuteTime": {
     "end_time": "2025-09-30T16:50:45.330894Z",
     "start_time": "2025-09-30T16:50:45.315058Z"
    }
   },
   "cell_type": "code",
   "source": "array_zeros = torch.zeros([4, 6], dtype=torch.float32)",
   "id": "40b2e8bd5c4178b7",
   "outputs": [],
   "execution_count": 44
  },
  {
   "metadata": {
    "ExecuteTime": {
     "end_time": "2025-09-30T16:50:47.411248Z",
     "start_time": "2025-09-30T16:50:47.397687Z"
    }
   },
   "cell_type": "code",
   "source": "array_zeros",
   "id": "9739741a0bf8b5e",
   "outputs": [
    {
     "data": {
      "text/plain": [
       "tensor([[0., 0., 0., 0., 0., 0.],\n",
       "        [0., 0., 0., 0., 0., 0.],\n",
       "        [0., 0., 0., 0., 0., 0.],\n",
       "        [0., 0., 0., 0., 0., 0.]])"
      ]
     },
     "execution_count": 45,
     "metadata": {},
     "output_type": "execute_result"
    }
   ],
   "execution_count": 45
  },
  {
   "metadata": {
    "ExecuteTime": {
     "end_time": "2025-09-30T16:50:48.939883Z",
     "start_time": "2025-09-30T16:50:48.933370Z"
    }
   },
   "cell_type": "code",
   "source": "array_zeros.view(3, 8)",
   "id": "ed60993087b52234",
   "outputs": [
    {
     "data": {
      "text/plain": [
       "tensor([[0., 0., 0., 0., 0., 0., 0., 0.],\n",
       "        [0., 0., 0., 0., 0., 0., 0., 0.],\n",
       "        [0., 0., 0., 0., 0., 0., 0., 0.]])"
      ]
     },
     "execution_count": 46,
     "metadata": {},
     "output_type": "execute_result"
    }
   ],
   "execution_count": 46
  },
  {
   "metadata": {
    "ExecuteTime": {
     "end_time": "2025-09-30T17:07:55.426792Z",
     "start_time": "2025-09-30T17:07:55.421783Z"
    }
   },
   "cell_type": "code",
   "source": "array_zeros.view(2, -1)",
   "id": "6a1753aa0e1fbfcf",
   "outputs": [
    {
     "data": {
      "text/plain": [
       "tensor([[0., 0., 0., 0., 0., 0., 0., 0., 0., 0., 0., 0.],\n",
       "        [0., 0., 0., 0., 0., 0., 0., 0., 0., 0., 0., 0.]])"
      ]
     },
     "execution_count": 60,
     "metadata": {},
     "output_type": "execute_result"
    }
   ],
   "execution_count": 60
  },
  {
   "metadata": {
    "ExecuteTime": {
     "end_time": "2025-09-30T17:07:40.028019Z",
     "start_time": "2025-09-30T17:07:40.023508Z"
    }
   },
   "cell_type": "code",
   "source": "array_zeros2 = array_zeros",
   "id": "aae9f429011f0adb",
   "outputs": [],
   "execution_count": 58
  },
  {
   "metadata": {
    "ExecuteTime": {
     "end_time": "2025-09-30T17:07:51.740463Z",
     "start_time": "2025-09-30T17:07:51.719710Z"
    }
   },
   "cell_type": "code",
   "source": "array_zeros2",
   "id": "974cd729176e8b21",
   "outputs": [
    {
     "data": {
      "text/plain": [
       "tensor([[0., 0., 0., 0., 0., 0.],\n",
       "        [0., 0., 0., 0., 0., 0.],\n",
       "        [0., 0., 0., 0., 0., 0.],\n",
       "        [0., 0., 0., 0., 0., 0.]])"
      ]
     },
     "execution_count": 59,
     "metadata": {},
     "output_type": "execute_result"
    }
   ],
   "execution_count": 59
  },
  {
   "metadata": {
    "ExecuteTime": {
     "end_time": "2025-09-30T17:09:01.988244Z",
     "start_time": "2025-09-30T17:09:01.972257Z"
    }
   },
   "cell_type": "code",
   "source": "array_zeros2[2:]",
   "id": "ec6a668bd186fa65",
   "outputs": [
    {
     "data": {
      "text/plain": [
       "tensor([[0., 0., 0., 0., 0., 0.],\n",
       "        [0., 0., 0., 0., 0., 0.]])"
      ]
     },
     "execution_count": 66,
     "metadata": {},
     "output_type": "execute_result"
    }
   ],
   "execution_count": 66
  },
  {
   "metadata": {},
   "cell_type": "code",
   "outputs": [],
   "execution_count": null,
   "source": "6",
   "id": "41eb4caa82de41f7"
  }
 ],
 "metadata": {
  "kernelspec": {
   "display_name": "Python 3",
   "language": "python",
   "name": "python3"
  },
  "language_info": {
   "codemirror_mode": {
    "name": "ipython",
    "version": 2
   },
   "file_extension": ".py",
   "mimetype": "text/x-python",
   "name": "python",
   "nbconvert_exporter": "python",
   "pygments_lexer": "ipython2",
   "version": "2.7.6"
  }
 },
 "nbformat": 4,
 "nbformat_minor": 5
}
