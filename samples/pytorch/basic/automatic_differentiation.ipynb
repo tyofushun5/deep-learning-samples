{
 "cells": [
  {
   "cell_type": "code",
   "id": "initial_id",
   "metadata": {
    "collapsed": true,
    "ExecuteTime": {
     "end_time": "2025-10-01T14:59:17.197077Z",
     "start_time": "2025-10-01T14:59:08.489273Z"
    }
   },
   "source": "import torch",
   "outputs": [],
   "execution_count": 1
  },
  {
   "metadata": {
    "ExecuteTime": {
     "end_time": "2025-10-01T15:04:06.570004Z",
     "start_time": "2025-10-01T15:04:06.563488Z"
    }
   },
   "cell_type": "code",
   "source": "x = torch.tensor([3],dtype=torch.float32, requires_grad=True)",
   "id": "ab6622c0df77e375",
   "outputs": [],
   "execution_count": 8
  },
  {
   "metadata": {
    "ExecuteTime": {
     "end_time": "2025-10-01T15:04:49.654919Z",
     "start_time": "2025-10-01T15:04:49.635250Z"
    }
   },
   "cell_type": "code",
   "source": "y = 2 * x ** 2",
   "id": "97b8e3438b4bcf39",
   "outputs": [],
   "execution_count": 10
  },
  {
   "metadata": {
    "ExecuteTime": {
     "end_time": "2025-10-01T15:05:00.755743Z",
     "start_time": "2025-10-01T15:05:00.676933Z"
    }
   },
   "cell_type": "code",
   "source": "y.backward()",
   "id": "900adec9ab752fb7",
   "outputs": [],
   "execution_count": 11
  },
  {
   "metadata": {
    "ExecuteTime": {
     "end_time": "2025-10-01T15:05:15.597532Z",
     "start_time": "2025-10-01T15:05:15.580253Z"
    }
   },
   "cell_type": "code",
   "source": "x.grad",
   "id": "dc5278892d86f7b8",
   "outputs": [
    {
     "data": {
      "text/plain": [
       "tensor([12.])"
      ]
     },
     "execution_count": 12,
     "metadata": {},
     "output_type": "execute_result"
    }
   ],
   "execution_count": 12
  },
  {
   "metadata": {
    "ExecuteTime": {
     "end_time": "2025-10-01T15:12:59.650263Z",
     "start_time": "2025-10-01T15:12:59.635204Z"
    }
   },
   "cell_type": "code",
   "source": [
    "x1 = torch.tensor([3],dtype=torch.float32, requires_grad=True)\n",
    "x2 = torch.tensor([2],dtype=torch.float32, requires_grad=True)"
   ],
   "id": "57caa3753fb13bc9",
   "outputs": [],
   "execution_count": 15
  },
  {
   "metadata": {
    "ExecuteTime": {
     "end_time": "2025-10-01T15:13:00.336504Z",
     "start_time": "2025-10-01T15:13:00.324852Z"
    }
   },
   "cell_type": "code",
   "source": "y = 2 * x1 ** 2 + 3 * x2 ** 3",
   "id": "177da896f6fd0907",
   "outputs": [],
   "execution_count": 16
  },
  {
   "metadata": {
    "ExecuteTime": {
     "end_time": "2025-10-01T15:13:06.868567Z",
     "start_time": "2025-10-01T15:13:06.851795Z"
    }
   },
   "cell_type": "code",
   "source": "y.backward()",
   "id": "23352875e8d9ead9",
   "outputs": [],
   "execution_count": 17
  },
  {
   "metadata": {
    "ExecuteTime": {
     "end_time": "2025-10-01T15:13:19.366132Z",
     "start_time": "2025-10-01T15:13:19.347469Z"
    }
   },
   "cell_type": "code",
   "source": "x1.grad",
   "id": "e956d2cde8252bf7",
   "outputs": [
    {
     "data": {
      "text/plain": [
       "tensor([12.])"
      ]
     },
     "execution_count": 18,
     "metadata": {},
     "output_type": "execute_result"
    }
   ],
   "execution_count": 18
  },
  {
   "metadata": {
    "ExecuteTime": {
     "end_time": "2025-10-01T15:13:23.603665Z",
     "start_time": "2025-10-01T15:13:23.595159Z"
    }
   },
   "cell_type": "code",
   "source": "x2.grad",
   "id": "c0010bf4171b00a2",
   "outputs": [
    {
     "data": {
      "text/plain": [
       "tensor([36.])"
      ]
     },
     "execution_count": 19,
     "metadata": {},
     "output_type": "execute_result"
    }
   ],
   "execution_count": 19
  }
 ],
 "metadata": {
  "kernelspec": {
   "display_name": "Python 3",
   "language": "python",
   "name": "python3"
  },
  "language_info": {
   "codemirror_mode": {
    "name": "ipython",
    "version": 2
   },
   "file_extension": ".py",
   "mimetype": "text/x-python",
   "name": "python",
   "nbconvert_exporter": "python",
   "pygments_lexer": "ipython2",
   "version": "2.7.6"
  }
 },
 "nbformat": 4,
 "nbformat_minor": 5
}
